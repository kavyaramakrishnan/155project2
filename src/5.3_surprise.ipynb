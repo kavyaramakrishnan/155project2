{
 "cells": [
  {
   "cell_type": "code",
   "execution_count": 1,
   "metadata": {
    "ExecuteTime": {
     "end_time": "2018-02-24T02:14:24.107343Z",
     "start_time": "2018-02-24T02:14:23.422760Z"
    }
   },
   "outputs": [],
   "source": [
    "import pandas as pd\n",
    "import numpy as np\n",
    "import matplotlib.pyplot as plt\n",
    "from surprise import SVD\n",
    "from surprise import accuracy\n",
    "from surprise import NormalPredictor\n",
    "from surprise import Reader\n",
    "from surprise import Dataset\n",
    "from surprise.model_selection import train_test_split\n",
    "from surprise.model_selection import cross_validate\n",
    "from adjustText import adjust_text\n",
    "%matplotlib inline\n"
   ]
  },
  {
   "cell_type": "code",
   "execution_count": 2,
   "metadata": {
    "ExecuteTime": {
     "end_time": "2018-02-24T02:14:24.172172Z",
     "start_time": "2018-02-24T02:14:24.112076Z"
    }
   },
   "outputs": [
    {
     "data": {
      "text/html": [
       "<div>\n",
       "<style scoped>\n",
       "    .dataframe tbody tr th:only-of-type {\n",
       "        vertical-align: middle;\n",
       "    }\n",
       "\n",
       "    .dataframe tbody tr th {\n",
       "        vertical-align: top;\n",
       "    }\n",
       "\n",
       "    .dataframe thead th {\n",
       "        text-align: right;\n",
       "    }\n",
       "</style>\n",
       "<table border=\"1\" class=\"dataframe\">\n",
       "  <thead>\n",
       "    <tr style=\"text-align: right;\">\n",
       "      <th></th>\n",
       "      <th>user_id</th>\n",
       "      <th>movie_id</th>\n",
       "      <th>rating</th>\n",
       "    </tr>\n",
       "  </thead>\n",
       "  <tbody>\n",
       "    <tr>\n",
       "      <th>0</th>\n",
       "      <td>196</td>\n",
       "      <td>242</td>\n",
       "      <td>3</td>\n",
       "    </tr>\n",
       "    <tr>\n",
       "      <th>1</th>\n",
       "      <td>186</td>\n",
       "      <td>302</td>\n",
       "      <td>3</td>\n",
       "    </tr>\n",
       "    <tr>\n",
       "      <th>2</th>\n",
       "      <td>22</td>\n",
       "      <td>377</td>\n",
       "      <td>1</td>\n",
       "    </tr>\n",
       "    <tr>\n",
       "      <th>3</th>\n",
       "      <td>244</td>\n",
       "      <td>51</td>\n",
       "      <td>2</td>\n",
       "    </tr>\n",
       "    <tr>\n",
       "      <th>4</th>\n",
       "      <td>166</td>\n",
       "      <td>346</td>\n",
       "      <td>1</td>\n",
       "    </tr>\n",
       "  </tbody>\n",
       "</table>\n",
       "</div>"
      ],
      "text/plain": [
       "   user_id  movie_id  rating\n",
       "0      196       242       3\n",
       "1      186       302       3\n",
       "2       22       377       1\n",
       "3      244        51       2\n",
       "4      166       346       1"
      ]
     },
     "execution_count": 2,
     "metadata": {},
     "output_type": "execute_result"
    }
   ],
   "source": [
    "#Reading ratings file:\n",
    "dataCols = ['user_id', 'movie_id', 'rating']\n",
    "dataDf = pd.read_csv('../data/data.txt', sep='\\t', names=dataCols, encoding='latin-1')\n",
    "dataDf.head()"
   ]
  },
  {
   "cell_type": "code",
   "execution_count": 3,
   "metadata": {
    "ExecuteTime": {
     "end_time": "2018-02-24T02:14:24.218255Z",
     "start_time": "2018-02-24T02:14:24.176490Z"
    }
   },
   "outputs": [
    {
     "data": {
      "text/html": [
       "<div>\n",
       "<style scoped>\n",
       "    .dataframe tbody tr th:only-of-type {\n",
       "        vertical-align: middle;\n",
       "    }\n",
       "\n",
       "    .dataframe tbody tr th {\n",
       "        vertical-align: top;\n",
       "    }\n",
       "\n",
       "    .dataframe thead th {\n",
       "        text-align: right;\n",
       "    }\n",
       "</style>\n",
       "<table border=\"1\" class=\"dataframe\">\n",
       "  <thead>\n",
       "    <tr style=\"text-align: right;\">\n",
       "      <th></th>\n",
       "      <th>movie id</th>\n",
       "      <th>movie title</th>\n",
       "      <th>unknown</th>\n",
       "      <th>Action</th>\n",
       "      <th>Adventure</th>\n",
       "      <th>Animation</th>\n",
       "      <th>Children's</th>\n",
       "      <th>Comedy</th>\n",
       "      <th>Crime</th>\n",
       "      <th>Documentary</th>\n",
       "      <th>...</th>\n",
       "      <th>Fantasy</th>\n",
       "      <th>Film-Noir</th>\n",
       "      <th>Horror</th>\n",
       "      <th>Musical</th>\n",
       "      <th>Mystery</th>\n",
       "      <th>Romance</th>\n",
       "      <th>Sci-Fi</th>\n",
       "      <th>Thriller</th>\n",
       "      <th>War</th>\n",
       "      <th>Western</th>\n",
       "    </tr>\n",
       "  </thead>\n",
       "  <tbody>\n",
       "    <tr>\n",
       "      <th>0</th>\n",
       "      <td>1</td>\n",
       "      <td>Toy Story (1995)</td>\n",
       "      <td>0</td>\n",
       "      <td>0</td>\n",
       "      <td>0</td>\n",
       "      <td>1</td>\n",
       "      <td>1</td>\n",
       "      <td>1</td>\n",
       "      <td>0</td>\n",
       "      <td>0</td>\n",
       "      <td>...</td>\n",
       "      <td>0</td>\n",
       "      <td>0</td>\n",
       "      <td>0</td>\n",
       "      <td>0</td>\n",
       "      <td>0</td>\n",
       "      <td>0</td>\n",
       "      <td>0</td>\n",
       "      <td>0</td>\n",
       "      <td>0</td>\n",
       "      <td>0</td>\n",
       "    </tr>\n",
       "    <tr>\n",
       "      <th>1</th>\n",
       "      <td>2</td>\n",
       "      <td>GoldenEye (1995)</td>\n",
       "      <td>0</td>\n",
       "      <td>1</td>\n",
       "      <td>1</td>\n",
       "      <td>0</td>\n",
       "      <td>0</td>\n",
       "      <td>0</td>\n",
       "      <td>0</td>\n",
       "      <td>0</td>\n",
       "      <td>...</td>\n",
       "      <td>0</td>\n",
       "      <td>0</td>\n",
       "      <td>0</td>\n",
       "      <td>0</td>\n",
       "      <td>0</td>\n",
       "      <td>0</td>\n",
       "      <td>0</td>\n",
       "      <td>1</td>\n",
       "      <td>0</td>\n",
       "      <td>0</td>\n",
       "    </tr>\n",
       "    <tr>\n",
       "      <th>2</th>\n",
       "      <td>3</td>\n",
       "      <td>Four Rooms (1995)</td>\n",
       "      <td>0</td>\n",
       "      <td>0</td>\n",
       "      <td>0</td>\n",
       "      <td>0</td>\n",
       "      <td>0</td>\n",
       "      <td>0</td>\n",
       "      <td>0</td>\n",
       "      <td>0</td>\n",
       "      <td>...</td>\n",
       "      <td>0</td>\n",
       "      <td>0</td>\n",
       "      <td>0</td>\n",
       "      <td>0</td>\n",
       "      <td>0</td>\n",
       "      <td>0</td>\n",
       "      <td>0</td>\n",
       "      <td>1</td>\n",
       "      <td>0</td>\n",
       "      <td>0</td>\n",
       "    </tr>\n",
       "    <tr>\n",
       "      <th>3</th>\n",
       "      <td>4</td>\n",
       "      <td>Get Shorty (1995)</td>\n",
       "      <td>0</td>\n",
       "      <td>1</td>\n",
       "      <td>0</td>\n",
       "      <td>0</td>\n",
       "      <td>0</td>\n",
       "      <td>1</td>\n",
       "      <td>0</td>\n",
       "      <td>0</td>\n",
       "      <td>...</td>\n",
       "      <td>0</td>\n",
       "      <td>0</td>\n",
       "      <td>0</td>\n",
       "      <td>0</td>\n",
       "      <td>0</td>\n",
       "      <td>0</td>\n",
       "      <td>0</td>\n",
       "      <td>0</td>\n",
       "      <td>0</td>\n",
       "      <td>0</td>\n",
       "    </tr>\n",
       "    <tr>\n",
       "      <th>4</th>\n",
       "      <td>5</td>\n",
       "      <td>Copycat (1995)</td>\n",
       "      <td>0</td>\n",
       "      <td>0</td>\n",
       "      <td>0</td>\n",
       "      <td>0</td>\n",
       "      <td>0</td>\n",
       "      <td>0</td>\n",
       "      <td>1</td>\n",
       "      <td>0</td>\n",
       "      <td>...</td>\n",
       "      <td>0</td>\n",
       "      <td>0</td>\n",
       "      <td>0</td>\n",
       "      <td>0</td>\n",
       "      <td>0</td>\n",
       "      <td>0</td>\n",
       "      <td>0</td>\n",
       "      <td>1</td>\n",
       "      <td>0</td>\n",
       "      <td>0</td>\n",
       "    </tr>\n",
       "  </tbody>\n",
       "</table>\n",
       "<p>5 rows × 21 columns</p>\n",
       "</div>"
      ],
      "text/plain": [
       "   movie id        movie title  unknown  Action  Adventure  Animation  \\\n",
       "0         1   Toy Story (1995)        0       0          0          1   \n",
       "1         2   GoldenEye (1995)        0       1          1          0   \n",
       "2         3  Four Rooms (1995)        0       0          0          0   \n",
       "3         4  Get Shorty (1995)        0       1          0          0   \n",
       "4         5     Copycat (1995)        0       0          0          0   \n",
       "\n",
       "   Children's  Comedy  Crime  Documentary   ...     Fantasy  Film-Noir  \\\n",
       "0           1       1      0            0   ...           0          0   \n",
       "1           0       0      0            0   ...           0          0   \n",
       "2           0       0      0            0   ...           0          0   \n",
       "3           0       1      0            0   ...           0          0   \n",
       "4           0       0      1            0   ...           0          0   \n",
       "\n",
       "   Horror  Musical  Mystery  Romance  Sci-Fi  Thriller  War  Western  \n",
       "0       0        0        0        0       0         0    0        0  \n",
       "1       0        0        0        0       0         1    0        0  \n",
       "2       0        0        0        0       0         1    0        0  \n",
       "3       0        0        0        0       0         0    0        0  \n",
       "4       0        0        0        0       0         1    0        0  \n",
       "\n",
       "[5 rows x 21 columns]"
      ]
     },
     "execution_count": 3,
     "metadata": {},
     "output_type": "execute_result"
    }
   ],
   "source": [
    "#Reading items file:\n",
    "movieCols = ['movie id', 'movie title', 'unknown', 'Action', 'Adventure',\n",
    " 'Animation', 'Children\\'s', 'Comedy', 'Crime', 'Documentary', 'Drama', 'Fantasy',\n",
    " 'Film-Noir', 'Horror', 'Musical', 'Mystery', 'Romance', 'Sci-Fi', 'Thriller', 'War', 'Western']\n",
    "moviesDf = pd.read_csv('../data/movies.txt', sep='\\t', names=movieCols, encoding='latin-1')\n",
    "moviesDf.head()"
   ]
  },
  {
   "cell_type": "code",
   "execution_count": 4,
   "metadata": {
    "ExecuteTime": {
     "end_time": "2018-02-24T02:14:24.247586Z",
     "start_time": "2018-02-24T02:14:24.223124Z"
    }
   },
   "outputs": [
    {
     "data": {
      "text/html": [
       "<div>\n",
       "<style scoped>\n",
       "    .dataframe tbody tr th:only-of-type {\n",
       "        vertical-align: middle;\n",
       "    }\n",
       "\n",
       "    .dataframe tbody tr th {\n",
       "        vertical-align: top;\n",
       "    }\n",
       "\n",
       "    .dataframe thead th {\n",
       "        text-align: right;\n",
       "    }\n",
       "</style>\n",
       "<table border=\"1\" class=\"dataframe\">\n",
       "  <thead>\n",
       "    <tr style=\"text-align: right;\">\n",
       "      <th></th>\n",
       "      <th>user_id</th>\n",
       "      <th>movie_id</th>\n",
       "      <th>rating</th>\n",
       "    </tr>\n",
       "  </thead>\n",
       "  <tbody>\n",
       "    <tr>\n",
       "      <th>0</th>\n",
       "      <td>707</td>\n",
       "      <td>766</td>\n",
       "      <td>3</td>\n",
       "    </tr>\n",
       "    <tr>\n",
       "      <th>1</th>\n",
       "      <td>943</td>\n",
       "      <td>188</td>\n",
       "      <td>4</td>\n",
       "    </tr>\n",
       "    <tr>\n",
       "      <th>2</th>\n",
       "      <td>772</td>\n",
       "      <td>313</td>\n",
       "      <td>5</td>\n",
       "    </tr>\n",
       "    <tr>\n",
       "      <th>3</th>\n",
       "      <td>828</td>\n",
       "      <td>26</td>\n",
       "      <td>3</td>\n",
       "    </tr>\n",
       "    <tr>\n",
       "      <th>4</th>\n",
       "      <td>854</td>\n",
       "      <td>514</td>\n",
       "      <td>4</td>\n",
       "    </tr>\n",
       "  </tbody>\n",
       "</table>\n",
       "</div>"
      ],
      "text/plain": [
       "   user_id  movie_id  rating\n",
       "0      707       766       3\n",
       "1      943       188       4\n",
       "2      772       313       5\n",
       "3      828        26       3\n",
       "4      854       514       4"
      ]
     },
     "execution_count": 4,
     "metadata": {},
     "output_type": "execute_result"
    }
   ],
   "source": [
    "#Reading test file:\n",
    "testSetCols = ['user_id', 'movie_id', 'rating']\n",
    "testSetDf = pd.read_csv('../data/test.txt', sep='\\t', names=testSetCols, encoding='latin-1')\n",
    "testSetDf.head()"
   ]
  },
  {
   "cell_type": "code",
   "execution_count": 5,
   "metadata": {
    "ExecuteTime": {
     "end_time": "2018-02-24T02:14:24.306608Z",
     "start_time": "2018-02-24T02:14:24.253211Z"
    }
   },
   "outputs": [
    {
     "data": {
      "text/html": [
       "<div>\n",
       "<style scoped>\n",
       "    .dataframe tbody tr th:only-of-type {\n",
       "        vertical-align: middle;\n",
       "    }\n",
       "\n",
       "    .dataframe tbody tr th {\n",
       "        vertical-align: top;\n",
       "    }\n",
       "\n",
       "    .dataframe thead th {\n",
       "        text-align: right;\n",
       "    }\n",
       "</style>\n",
       "<table border=\"1\" class=\"dataframe\">\n",
       "  <thead>\n",
       "    <tr style=\"text-align: right;\">\n",
       "      <th></th>\n",
       "      <th>user_id</th>\n",
       "      <th>movie_id</th>\n",
       "      <th>rating</th>\n",
       "    </tr>\n",
       "  </thead>\n",
       "  <tbody>\n",
       "    <tr>\n",
       "      <th>0</th>\n",
       "      <td>196</td>\n",
       "      <td>242</td>\n",
       "      <td>3</td>\n",
       "    </tr>\n",
       "    <tr>\n",
       "      <th>1</th>\n",
       "      <td>186</td>\n",
       "      <td>302</td>\n",
       "      <td>3</td>\n",
       "    </tr>\n",
       "    <tr>\n",
       "      <th>2</th>\n",
       "      <td>22</td>\n",
       "      <td>377</td>\n",
       "      <td>1</td>\n",
       "    </tr>\n",
       "    <tr>\n",
       "      <th>3</th>\n",
       "      <td>166</td>\n",
       "      <td>346</td>\n",
       "      <td>1</td>\n",
       "    </tr>\n",
       "    <tr>\n",
       "      <th>4</th>\n",
       "      <td>298</td>\n",
       "      <td>474</td>\n",
       "      <td>4</td>\n",
       "    </tr>\n",
       "  </tbody>\n",
       "</table>\n",
       "</div>"
      ],
      "text/plain": [
       "   user_id  movie_id  rating\n",
       "0      196       242       3\n",
       "1      186       302       3\n",
       "2       22       377       1\n",
       "3      166       346       1\n",
       "4      298       474       4"
      ]
     },
     "execution_count": 5,
     "metadata": {},
     "output_type": "execute_result"
    }
   ],
   "source": [
    "#Reading train file:\n",
    "trainSetCols = ['user_id', 'movie_id', 'rating']\n",
    "trainSetDf = pd.read_csv('../data/train.txt', sep='\\t', names=trainSetCols, encoding='latin-1')\n",
    "trainSetDf.head()"
   ]
  },
  {
   "cell_type": "code",
   "execution_count": 6,
   "metadata": {
    "ExecuteTime": {
     "end_time": "2018-02-24T02:14:24.626983Z",
     "start_time": "2018-02-24T02:14:24.311390Z"
    }
   },
   "outputs": [],
   "source": [
    "reader = Reader(rating_scale=(1, 5))\n",
    "\n",
    "dataSet = Dataset.load_from_df(dataDf, reader)\n",
    "trainSet, testSet = train_test_split(dataSet, test_size = 0.1)\n",
    "#= dataSet.build_full_trainset()\n",
    "\n",
    "#trainSet = Dataset.load_from_df(trainSetDf, reader)\n",
    "#trainSet = Dataset.load_from_file('data/data.txt', reader)\n",
    "\n"
   ]
  },
  {
   "cell_type": "code",
   "execution_count": 7,
   "metadata": {
    "ExecuteTime": {
     "end_time": "2018-02-24T02:14:27.230195Z",
     "start_time": "2018-02-24T02:14:24.631424Z"
    }
   },
   "outputs": [
    {
     "data": {
      "text/plain": [
       "<surprise.prediction_algorithms.matrix_factorization.SVD at 0x109145ad0>"
      ]
     },
     "execution_count": 7,
     "metadata": {},
     "output_type": "execute_result"
    }
   ],
   "source": [
    "k = 20\n",
    "algo = SVD(n_factors = k, biased = True)\n",
    "\n",
    "algo.fit(trainSet)"
   ]
  },
  {
   "cell_type": "code",
   "execution_count": 8,
   "metadata": {
    "ExecuteTime": {
     "end_time": "2018-02-24T02:14:27.338967Z",
     "start_time": "2018-02-24T02:14:27.234324Z"
    }
   },
   "outputs": [],
   "source": [
    "testPred = algo.test(testSet)"
   ]
  },
  {
   "cell_type": "code",
   "execution_count": 9,
   "metadata": {
    "ExecuteTime": {
     "end_time": "2018-02-24T02:14:27.365443Z",
     "start_time": "2018-02-24T02:14:27.344106Z"
    },
    "scrolled": false
   },
   "outputs": [
    {
     "name": "stdout",
     "output_type": "stream",
     "text": [
      "RMSE: 0.9149\n"
     ]
    },
    {
     "data": {
      "text/plain": [
       "0.91492770877198248"
      ]
     },
     "execution_count": 9,
     "metadata": {},
     "output_type": "execute_result"
    }
   ],
   "source": [
    "accuracy.rmse(testPred, verbose=True)"
   ]
  },
  {
   "cell_type": "code",
   "execution_count": 10,
   "metadata": {
    "ExecuteTime": {
     "end_time": "2018-02-24T02:14:27.384171Z",
     "start_time": "2018-02-24T02:14:27.370678Z"
    }
   },
   "outputs": [
    {
     "name": "stdout",
     "output_type": "stream",
     "text": [
      "Matrix Shapes:\n",
      "U: (943, 20)\n",
      "V: (1665, 20)\n",
      "U Bias: (943,)\n",
      "V Bias: (1665,)\n",
      "Train Set Users: 943\n",
      "Train Set Items: 1665\n",
      "Train Set Ratings: 90000\n",
      "Test Set Len: 10000\n"
     ]
    }
   ],
   "source": [
    "uMatrix = algo.pu\n",
    "vMatrix = algo.qi\n",
    "uMatrixBias = algo.bu\n",
    "vMatrixBias = algo.bi\n",
    "print \"Matrix Shapes:\"\n",
    "print \"U: \" + str(uMatrix.shape)\n",
    "print \"V: \" + str(vMatrix.shape)\n",
    "print \"U Bias: \" + str(uMatrixBias.shape)\n",
    "print \"V Bias: \" + str(vMatrixBias.shape)\n",
    "print \"Train Set Users: \" + str(trainSet.n_users)\n",
    "print \"Train Set Items: \" + str(trainSet.n_items)\n",
    "print \"Train Set Ratings: \" + str(trainSet.n_ratings)\n",
    "print \"Test Set Len: \" + str(len(testSet))"
   ]
  },
  {
   "cell_type": "code",
   "execution_count": 11,
   "metadata": {
    "ExecuteTime": {
     "end_time": "2018-02-24T02:14:28.238510Z",
     "start_time": "2018-02-24T02:14:27.388916Z"
    }
   },
   "outputs": [
    {
     "name": "stdout",
     "output_type": "stream",
     "text": [
      "[['1' 'Toy Story (1995)' '0' '1' '0']\n",
      " ['2' 'GoldenEye (1995)' '1' '0' '0']\n",
      " ['3' 'Four Rooms (1995)' '0' '0' '0']\n",
      " ..., \n",
      " ['1680' 'Sliding Doors (1998)' '0' '0' '1']\n",
      " ['1681' 'You So Crazy (1994)' '0' '1' '0']\n",
      " ['1682' 'Scream of Stone (Schrei aus Stein) (1991)' '0' '0' '0']]\n"
     ]
    }
   ],
   "source": [
    "movie_info = np.loadtxt('../data/movies.txt', dtype=\"str\", delimiter=\"\\t\", usecols=(0, 1, 3, 7, 16))\n",
    "print movie_info\n",
    "data = np.loadtxt('../data/data.txt').astype(int)\n",
    "#Y_train = np.loadtxt('../data/train.txt').astype(int)\n",
    "#Y_test = np.loadtxt('../data/test.txt').astype(int)"
   ]
  },
  {
   "cell_type": "code",
   "execution_count": 12,
   "metadata": {
    "ExecuteTime": {
     "end_time": "2018-02-24T02:14:28.528688Z",
     "start_time": "2018-02-24T02:14:28.243025Z"
    }
   },
   "outputs": [
    {
     "name": "stdout",
     "output_type": "stream",
     "text": [
      "(1665, 20) (20, 20)\n",
      "(1665, 2)\n"
     ]
    }
   ],
   "source": [
    "#model.score(Y_test)\n",
    "a, sigma, b = np.linalg.svd(vMatrix.T)\n",
    "print vMatrix.shape, a.shape\n",
    "a_t =  a #np.transpose(a)\n",
    "\n",
    "#movie ID starts at 1, but matrix starts at 0\n",
    "v_proj = np.transpose(np.dot(a_t[:2], vMatrix.T))\n",
    "\n",
    "x = []\n",
    "y = []\n",
    "for i in v_proj:\n",
    "    x.append(i[0])\n",
    "    y.append(i[1])\n",
    "\n",
    "ratings = {}\n",
    "for user, movie_id, rating in data:\n",
    "    if movie_id in ratings:\n",
    "        ratings[movie_id].append(rating)\n",
    "    else:\n",
    "        ratings[movie_id] = [rating]\n",
    "#x = v_proj[0]\n",
    "#y = v_proj[1]\n",
    "#print(x)\n",
    "\n",
    "print v_proj.shape\n"
   ]
  },
  {
   "cell_type": "code",
   "execution_count": 13,
   "metadata": {
    "ExecuteTime": {
     "end_time": "2018-02-24T02:14:28.541151Z",
     "start_time": "2018-02-24T02:14:28.533510Z"
    }
   },
   "outputs": [],
   "source": [
    "# Setup\n",
    "\n",
    "ids = movie_info[:,0].astype(int)\n",
    "movie_names = movie_info[:,1]"
   ]
  },
  {
   "cell_type": "code",
   "execution_count": 14,
   "metadata": {
    "ExecuteTime": {
     "end_time": "2018-02-24T02:14:29.436684Z",
     "start_time": "2018-02-24T02:14:28.546103Z"
    }
   },
   "outputs": [
    {
     "name": "stderr",
     "output_type": "stream",
     "text": [
      "/System/Library/Frameworks/Python.framework/Versions/2.7/Extras/lib/python/matplotlib/collections.py:548: FutureWarning: elementwise comparison failed; returning scalar instead, but in the future will perform elementwise comparison\n",
      "  if self._edgecolors == 'face':\n"
     ]
    },
    {
     "data": {
      "text/plain": [
       "<matplotlib.figure.Figure at 0x1065e1fd0>"
      ]
     },
     "metadata": {},
     "output_type": "display_data"
    }
   ],
   "source": [
    "# 1. 10 movies of our choice from the MovieLens dataset \n",
    "\n",
    "plt.scatter(x[2:12], y[2:12])\n",
    "texts = []\n",
    "for j, txt in enumerate(movie_names[2:12]):\n",
    "    texts.append(plt.text(x[2:12][j], y[2:12][j], txt))\n",
    "adjust_text(texts)\n",
    "plt.xlabel('Feature 0')\n",
    "plt.ylabel('Feature 1')\n",
    "plt.title('10 Movies of Our Choice')\n",
    "plt.savefig('Shelf-choice.png')\n",
    "plt.clf()"
   ]
  },
  {
   "cell_type": "code",
   "execution_count": 15,
   "metadata": {
    "ExecuteTime": {
     "end_time": "2018-02-24T02:14:30.228155Z",
     "start_time": "2018-02-24T02:14:29.440986Z"
    }
   },
   "outputs": [
    {
     "name": "stdout",
     "output_type": "stream",
     "text": [
      "[288, 1, 258, 100, 294, 300, 50, 181, 121, 286]\n",
      "['GoldenEye (1995)', 'Legends of the Fall (1994)', 'Heavy Metal (1981)', '\"Cable Guy, The (1996)\"', 'GoodFellas (1990)', 'George of the Jungle (1997)', \"Marvin's Room (1996)\", 'Evita (1996)', 'Breakdown (1997)', 'In & Out (1997)']\n"
     ]
    },
    {
     "data": {
      "text/plain": [
       "<matplotlib.figure.Figure at 0x10d90db50>"
      ]
     },
     "metadata": {},
     "output_type": "display_data"
    }
   ],
   "source": [
    "# 2. All ratings of the ten most popular movies \n",
    "\n",
    "max_10 = dict(sorted(ratings.items(), key=lambda r: len(r[1]), reverse=True)[:10])\n",
    "x_pop = []\n",
    "y_pop = []\n",
    "top_ratings = []\n",
    "top_ratings = max_10.keys()\n",
    "movie_title = []\n",
    "print(top_ratings)\n",
    "counter = 0\n",
    "for i in v_proj:\n",
    "    counter += 1\n",
    "    if counter in top_ratings:\n",
    "        x_pop.append(i[0])\n",
    "        y_pop.append(i[1])\n",
    "        movie_title.append(movie_names[counter])\n",
    "print(movie_title)\n",
    "\n",
    "plt.scatter(x_pop, y_pop)\n",
    "texts = []\n",
    "for j, txt in enumerate(movie_title):\n",
    "    #texts.append(plt.text(x_pop[j], y_pop[j], txt))\n",
    "    plt.annotate(txt, (x_pop[j], y_pop[j]))\n",
    "#adjust_text(texts)\n",
    "plt.xlabel('Feature 0')\n",
    "plt.ylabel('Feature 1')\n",
    "plt.title('10 Most Popular Movies')\n",
    "plt.savefig('Shelf-popular.png')\n",
    "plt.clf()"
   ]
  },
  {
   "cell_type": "code",
   "execution_count": 16,
   "metadata": {
    "ExecuteTime": {
     "end_time": "2018-02-24T02:14:30.491363Z",
     "start_time": "2018-02-24T02:14:30.232541Z"
    }
   },
   "outputs": [
    {
     "name": "stdout",
     "output_type": "stream",
     "text": [
      "[1536, 1122, 1189, 1293, 814, 1201, 1653, 1467, 1500, 1599]\n"
     ]
    },
    {
     "data": {
      "text/plain": [
       "<matplotlib.figure.Figure at 0x10d904b50>"
      ]
     },
     "metadata": {},
     "output_type": "display_data"
    }
   ],
   "source": [
    "# 3. All ratings of the ten best movies \n",
    "\n",
    "best_10 = dict(sorted(ratings.items(), key=lambda r: sum(r[1])/len(r[1]), reverse=True)[:10])\n",
    "x_best = []\n",
    "y_best = []\n",
    "best = []\n",
    "best = best_10.keys()\n",
    "print(best)\n",
    "count = 0\n",
    "for i in v_proj:\n",
    "    count += 1\n",
    "    if count in best:\n",
    "        x_best.append(i[0])\n",
    "        y_best.append(i[1])\n",
    "\n",
    "for j, txt in enumerate(movie_title):\n",
    "    plt.annotate(txt, (x_best[j], y_best[j]))\n",
    "plt.scatter(x_best, y_best)\n",
    "plt.xlabel('Feature 0')\n",
    "plt.ylabel('Feature 1')\n",
    "plt.title('10 Best Movies')\n",
    "plt.xlabel(\"Feature 0\")\n",
    "plt.ylabel(\"Feature 1\")\n",
    "plt.savefig('Shelf-best.png')\n",
    "plt.clf()"
   ]
  },
  {
   "cell_type": "code",
   "execution_count": 17,
   "metadata": {
    "ExecuteTime": {
     "end_time": "2018-02-24T02:14:30.891962Z",
     "start_time": "2018-02-24T02:14:30.497410Z"
    }
   },
   "outputs": [
    {
     "data": {
      "text/plain": [
       "<matplotlib.figure.Figure at 0x10d90b490>"
      ]
     },
     "metadata": {},
     "output_type": "display_data"
    }
   ],
   "source": [
    "# 4. 10 ratings of movies from three genres of your choice\n",
    "\n",
    "\n",
    "ids = movie_info[:,0].astype(int)\n",
    "movie_names = movie_info[:,1]\n",
    "\n",
    "\n",
    "action = (movie_info[:,2].astype(int))\n",
    "action_movies = dict((k, v) for k, v in zip(ids, action) if v == 1)\n",
    "action_ratings_dict = dict((k, ratings[k]) for k in action_movies.keys())\n",
    "x_action = []\n",
    "y_action = []\n",
    "action_ratings = []\n",
    "action_ratings = action_ratings_dict.keys()\n",
    "\n",
    "comedy = movie_info[:,3].astype(int)\n",
    "comedy_movies = dict((k, v) for k, v in zip(ids, comedy) if v == 1)\n",
    "comedy_ratings_dict = dict((k, ratings[k]) for k in comedy_movies.keys())\n",
    "x_comedy = []\n",
    "y_comedy = []\n",
    "comedy_ratings = []\n",
    "comedy_ratings = comedy_ratings_dict.keys()\n",
    "\n",
    "romance = movie_info[:,4].astype(int)\n",
    "romance_movies = dict((k, v) for k, v in zip(ids, romance) if v == 1)\n",
    "romance_ratings_dict = dict((k, ratings[k]) for k in romance_movies.keys())\n",
    "x_romance = []\n",
    "y_romance = []\n",
    "romance_ratings = []\n",
    "romance_ratings = romance_ratings_dict.keys()\n",
    "\n",
    "count = 0\n",
    "for i in v_proj:\n",
    "    count += 1\n",
    "    if count in action_ratings:\n",
    "        x_action.append(i[0])\n",
    "        y_action.append(i[1])\n",
    "\n",
    "    if count in comedy_ratings:\n",
    "        x_comedy.append(i[0])\n",
    "        y_comedy.append(i[1])\n",
    "\n",
    "    if count in romance_ratings:\n",
    "        x_romance.append(i[0])\n",
    "        y_romance.append(i[1])\n",
    "\n",
    "plt.scatter(x_action[2:12], y_action[2:12], label = \"Action\")\n",
    "plt.scatter(x_comedy[2:12], y_comedy[2:12], color = 'orange', label = \"Comedy\")\n",
    "plt.scatter(x_romance[2:12], y_romance[2:12], color = 'green', label = \"Romance\")\n",
    "plt.legend()\n",
    "plt.title(\"Three Genres\")\n",
    "plt.savefig('Shelf-genres.png')\n",
    "plt.clf()"
   ]
  },
  {
   "cell_type": "code",
   "execution_count": null,
   "metadata": {},
   "outputs": [],
   "source": []
  }
 ],
 "metadata": {
  "kernelspec": {
   "display_name": "Python 2",
   "language": "python",
   "name": "python2"
  },
  "language_info": {
   "codemirror_mode": {
    "name": "ipython",
    "version": 2
   },
   "file_extension": ".py",
   "mimetype": "text/x-python",
   "name": "python",
   "nbconvert_exporter": "python",
   "pygments_lexer": "ipython2",
   "version": "2.7.10"
  },
  "varInspector": {
   "cols": {
    "lenName": 16,
    "lenType": 16,
    "lenVar": 40
   },
   "kernels_config": {
    "python": {
     "delete_cmd_postfix": "",
     "delete_cmd_prefix": "del ",
     "library": "var_list.py",
     "varRefreshCmd": "print(var_dic_list())"
    },
    "r": {
     "delete_cmd_postfix": ") ",
     "delete_cmd_prefix": "rm(",
     "library": "var_list.r",
     "varRefreshCmd": "cat(var_dic_list()) "
    }
   },
   "types_to_exclude": [
    "module",
    "function",
    "builtin_function_or_method",
    "instance",
    "_Feature"
   ],
   "window_display": false
  }
 },
 "nbformat": 4,
 "nbformat_minor": 2
}
